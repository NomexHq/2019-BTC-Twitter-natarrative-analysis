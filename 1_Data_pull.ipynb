{
 "cells": [
  {
   "cell_type": "code",
   "execution_count": 1,
   "metadata": {},
   "outputs": [],
   "source": [
    "# import twint"
   ]
  },
  {
   "cell_type": "code",
   "execution_count": 2,
   "metadata": {},
   "outputs": [],
   "source": [
    "# c = twint.Config()"
   ]
  },
  {
   "cell_type": "code",
   "execution_count": 3,
   "metadata": {},
   "outputs": [],
   "source": [
    "# # equivalent to `-s` bitcoin\n",
    "# c.Search = \"bitcoin\""
   ]
  },
  {
   "cell_type": "code",
   "execution_count": 4,
   "metadata": {},
   "outputs": [],
   "source": [
    "# c.Limit = 10"
   ]
  },
  {
   "cell_type": "code",
   "execution_count": 5,
   "metadata": {},
   "outputs": [],
   "source": [
    "import pandas as pd\n",
    "# import json\n",
    "# pd.set_option('display.max_columns', None)"
   ]
  },
  {
   "cell_type": "code",
   "execution_count": 6,
   "metadata": {},
   "outputs": [],
   "source": [
    "# #!/usr/bin/python3\n",
    "# import twint\n",
    "\n",
    "# c = twint.Config()\n",
    "# #c.Limit = 10\n",
    "# c.Lang = \"en\"\n",
    "# c.Verified = True\n",
    "# c.Count = True\n",
    "# c.Lowercase = True\n",
    "# c.Store_pandas = True\n",
    "# c.Stats = True\n",
    "# c.Show_hashtags = False\n",
    "# # equivalent to `-s` bitcoin\n",
    "# c.Since = \"2019-01-01\"\n",
    "# c.Location = True\n",
    "# c.Search = \"bitcoin\"\n",
    "# # Custom output format\n",
    "# c.Format = \"{date} | {id} | {username} | {tweet} | {location}\"\n",
    "# c.Output = \"test2019.csv\"\n",
    "# twint.run.Search(c)"
   ]
  },
  {
   "cell_type": "code",
   "execution_count": null,
   "metadata": {},
   "outputs": [],
   "source": []
  }
 ],
 "metadata": {
  "kernelspec": {
   "display_name": "Python 3",
   "language": "python",
   "name": "python3"
  },
  "language_info": {
   "codemirror_mode": {
    "name": "ipython",
    "version": 3
   },
   "file_extension": ".py",
   "mimetype": "text/x-python",
   "name": "python",
   "nbconvert_exporter": "python",
   "pygments_lexer": "ipython3",
   "version": "3.7.1"
  }
 },
 "nbformat": 4,
 "nbformat_minor": 2
}
